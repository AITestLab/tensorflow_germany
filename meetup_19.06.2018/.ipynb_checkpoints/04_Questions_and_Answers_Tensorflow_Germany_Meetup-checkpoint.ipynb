{
 "cells": [
  {
   "cell_type": "code",
   "execution_count": null,
   "metadata": {},
   "outputs": [],
   "source": [
    "import tensorflow as tf\n",
    "import numpy as np \n",
    "import matplotlib.pyplot as plt\n",
    "print('Tensorflow Version : {}'.format(tf.__version__))"
   ]
  },
  {
   "cell_type": "markdown",
   "metadata": {},
   "source": [
    "#### Question Task 1:\n",
    "    1.Create two random 0-d tensors x and y of any distribution.\n",
    "    2.Create a TensorFlow object that returns x + y if x > y, and x - y otherwise.\n",
    "    3.Hint: look up tf.cond()\n",
    "    4.I do the first problem for you\n"
   ]
  },
  {
   "cell_type": "code",
   "execution_count": null,
   "metadata": {},
   "outputs": [],
   "source": [
    "x = tf.random_uniform([])  # Empty array as shape creates a scalar.\n",
    "y = tf.random_uniform([])\n",
    "out = tf.cond(tf.greater(x, y), lambda: tf.add(x, y), lambda: tf.subtract(x, y))\n"
   ]
  },
  {
   "cell_type": "markdown",
   "metadata": {},
   "source": [
    "####  Question Task 2:\n",
    "    1. Create two 0-d tensors x and y randomly selected from the range [-1, 1).\n",
    "    2. Return x + y if x < y, x - y if x > y, 0 otherwise.\n",
    "    3. Look up tf.case()."
   ]
  },
  {
   "cell_type": "code",
   "execution_count": null,
   "metadata": {},
   "outputs": [],
   "source": [
    "#TODO -enter your code here\n",
    "x = tf.random_uniform([], -1, 1, dtype=tf.float32)\n",
    "y = tf.random_uniform([], -1, 1, dtype=tf.float32)\n",
    "out = tf.case({tf.less(x, y): lambda: tf.add(x, y), \n",
    "               tf.greater(x, y): lambda: tf.subtract(x, y)}, \n",
    "              default=lambda: tf.constant(0.0), exclusive=True)"
   ]
  },
  {
   "cell_type": "markdown",
   "metadata": {},
   "source": [
    "#### QuestionTask 3\n",
    "    1.Create the tensor x of the value [[0, -2, -1], [0, 1, 2]] and y as a tensor of zeros with the same shape as x.\n",
    "    2.Return a boolean tensor that yields Trues if x equals y element-wise.\n",
    "    3.Hint: Look up tf.equal()."
   ]
  },
  {
   "cell_type": "code",
   "execution_count": null,
   "metadata": {},
   "outputs": [],
   "source": [
    "#TODO -enter your code here\n",
    "x = tf.constant([[0, -2, -1], [0, 1, 2]])\n",
    "y = tf.zeros_like(x)\n",
    "out = tf.equal(x, y)"
   ]
  },
  {
   "cell_type": "markdown",
   "metadata": {},
   "source": [
    "#### Question Task 4 \n",
    "    1.Create the tensor x of value \n",
    ">[29.05088806,  27.61298943,  31.19073486,  29.35532951,30.97266006,  26.67541885,  38.08450317,  20.74983215,\n",
    "34.94445419,  34.45999146,  29.06485367,  36.01657104,\n",
    "27.88236427,  20.56035233,  30.20379066,  29.51215172,33.71149445,  28.59134293,  36.05556488,  28.66994858].\n",
    "\n",
    "    2.Get the indices of elements in x whose values are greater than 30.\n",
    "    3.Hint: Use tf.where().\n",
    "    4.Then extract elements whose values are greater than 30.\n",
    "    5.Hint: Use tf.gather()."
   ]
  },
  {
   "cell_type": "code",
   "execution_count": null,
   "metadata": {},
   "outputs": [],
   "source": [
    "#TODO -enter your code here\n",
    "x = tf.constant([29.05088806,  27.61298943,  31.19073486,  29.35532951,\n",
    "                 30.97266006,  26.67541885,  38.08450317,  20.74983215,\n",
    "                 34.94445419,  34.45999146,  29.06485367,  36.01657104,\n",
    "                 27.88236427,  20.56035233,  30.20379066,  29.51215172,\n",
    "                 33.71149445,  28.59134293,  36.05556488,  28.66994858])\n",
    "indices = tf.where(x > 30)\n",
    "out = tf.gather(x, indices)"
   ]
  },
  {
   "cell_type": "markdown",
   "metadata": {},
   "source": [
    "#### Question Task 5\n",
    "\n",
    "    1.Create a diagnoal 2-d tensor of size 6 x 6 with the diagonal values of 1,2, ..., 6\n",
    "    2.Use tf.range() and tf.diag()."
   ]
  },
  {
   "cell_type": "code",
   "execution_count": null,
   "metadata": {},
   "outputs": [],
   "source": [
    "#TODO -enter your code here\n",
    "values = tf.range(1, 7)\n",
    "out = tf.diag(values)"
   ]
  },
  {
   "cell_type": "markdown",
   "metadata": {},
   "source": [
    "#### Question Task 6\n",
    "    1.Create a random 2-d tensor of size 10 x 10 from any distribution.\n",
    "    2.Calculate its determinant.\n",
    "    3.Look at tf.matrix_determinant()."
   ]
  },
  {
   "cell_type": "code",
   "execution_count": null,
   "metadata": {},
   "outputs": [],
   "source": [
    "#TODO -enter your code here\n",
    "m = tf.random_normal([10, 10], mean=10, stddev=1)\n",
    "out = tf.matrix_determinant(m)"
   ]
  },
  {
   "cell_type": "markdown",
   "metadata": {},
   "source": [
    "#### Question Task 7\n",
    "\n",
    "    1.Create tensor x with value [5, 2, 3, 5, 10, 6, 2, 3, 4, 2, 1, 1, 0, 9].\n",
    "    2.Return the unique elements in x\n",
    "    3.use tf.unique(). Keep in mind that tf.unique() returns a tuple."
   ]
  },
  {
   "cell_type": "code",
   "execution_count": null,
   "metadata": {},
   "outputs": [],
   "source": [
    "#TODO -enter your code here\n",
    "x = tf.constant([5, 2, 3, 5, 10, 6, 2, 3, 4, 2, 1, 1, 0, 9])\n",
    "unique_values, indices = tf.unique(x)"
   ]
  },
  {
   "cell_type": "markdown",
   "metadata": {},
   "source": [
    "#### Question Task 8 \n",
    "    1.Create two tensors x and y of shape 300 from any normal distribution,as long as they are from the same distribution.\n",
    "    2.Use tf.cond() to return:\n",
    "        The mean squared error of (x - y) if the average of all elements in (x - y) is negative, or\n",
    "        The sum of absolute value of all elements in the tensor (x - y) otherwise.\n",
    "    3.Hint: see the Huber loss function in the lecture slides 3."
   ]
  },
  {
   "cell_type": "code",
   "execution_count": null,
   "metadata": {},
   "outputs": [],
   "source": [
    "#TODO -enter your code here\n",
    "x = tf.random_normal([300], mean=5, stddev=1)\n",
    "y = tf.random_normal([300], mean=5, stddev=1)\n",
    "average = tf.reduce_mean(x - y)\n",
    "def f1(): return tf.reduce_mean(tf.square(x - y))\n",
    "def f2(): return tf.reduce_sum(tf.abs(x - y))\n",
    "out = tf.cond(average < 0, f1, f2)"
   ]
  }
 ],
 "metadata": {
  "kernelspec": {
   "display_name": "Python 3",
   "language": "python",
   "name": "python3"
  },
  "language_info": {
   "codemirror_mode": {
    "name": "ipython",
    "version": 3
   },
   "file_extension": ".py",
   "mimetype": "text/x-python",
   "name": "python",
   "nbconvert_exporter": "python",
   "pygments_lexer": "ipython3",
   "version": "3.5.2"
  }
 },
 "nbformat": 4,
 "nbformat_minor": 2
}
